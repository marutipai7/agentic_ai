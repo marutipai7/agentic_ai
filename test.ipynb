{
 "cells": [
  {
   "cell_type": "code",
   "execution_count": 1,
   "id": "12a8dcdb",
   "metadata": {},
   "outputs": [],
   "source": [
    "import pandas as pd\n",
    "import matplotlib.pyplot as plt\n",
    "import seaborn as sns\n",
    "import numpy as np"
   ]
  },
  {
   "cell_type": "code",
   "execution_count": 2,
   "id": "5f3ca66b",
   "metadata": {},
   "outputs": [],
   "source": [
    "df = pd.read_csv('synthetic_fraud_dataset.csv')"
   ]
  },
  {
   "cell_type": "code",
   "execution_count": 3,
   "id": "8eec1754",
   "metadata": {},
   "outputs": [
    {
     "data": {
      "text/plain": [
       "(1000, 12)"
      ]
     },
     "execution_count": 3,
     "metadata": {},
     "output_type": "execute_result"
    }
   ],
   "source": [
    "df.shape"
   ]
  },
  {
   "cell_type": "code",
   "execution_count": 4,
   "id": "ce2882c2",
   "metadata": {},
   "outputs": [
    {
     "data": {
      "text/plain": [
       "Index(['transaction_id', 'datetime', 'transaction_amount', 'transaction_time',\n",
       "       'account_age_days', 'num_prev_transactions', 'avg_transaction_amount',\n",
       "       'transaction_type', 'device_type', 'region', 'customer_segment',\n",
       "       'is_fraud'],\n",
       "      dtype='object')"
      ]
     },
     "execution_count": 4,
     "metadata": {},
     "output_type": "execute_result"
    }
   ],
   "source": [
    "df.columns"
   ]
  },
  {
   "cell_type": "code",
   "execution_count": 5,
   "id": "1c6129de",
   "metadata": {},
   "outputs": [
    {
     "data": {
      "text/html": [
       "<div>\n",
       "<style scoped>\n",
       "    .dataframe tbody tr th:only-of-type {\n",
       "        vertical-align: middle;\n",
       "    }\n",
       "\n",
       "    .dataframe tbody tr th {\n",
       "        vertical-align: top;\n",
       "    }\n",
       "\n",
       "    .dataframe thead th {\n",
       "        text-align: right;\n",
       "    }\n",
       "</style>\n",
       "<table border=\"1\" class=\"dataframe\">\n",
       "  <thead>\n",
       "    <tr style=\"text-align: right;\">\n",
       "      <th></th>\n",
       "      <th>transaction_id</th>\n",
       "      <th>datetime</th>\n",
       "      <th>transaction_amount</th>\n",
       "      <th>transaction_time</th>\n",
       "      <th>account_age_days</th>\n",
       "      <th>num_prev_transactions</th>\n",
       "      <th>avg_transaction_amount</th>\n",
       "      <th>transaction_type</th>\n",
       "      <th>device_type</th>\n",
       "      <th>region</th>\n",
       "      <th>customer_segment</th>\n",
       "      <th>is_fraud</th>\n",
       "    </tr>\n",
       "  </thead>\n",
       "  <tbody>\n",
       "    <tr>\n",
       "      <th>0</th>\n",
       "      <td>1</td>\n",
       "      <td>2025-01-16 07:27:17.813857</td>\n",
       "      <td>205.18</td>\n",
       "      <td>17.508197</td>\n",
       "      <td>399</td>\n",
       "      <td>26</td>\n",
       "      <td>88.69</td>\n",
       "      <td>payment</td>\n",
       "      <td>mobile</td>\n",
       "      <td>South</td>\n",
       "      <td>individual</td>\n",
       "      <td>0</td>\n",
       "    </tr>\n",
       "    <tr>\n",
       "      <th>1</th>\n",
       "      <td>2</td>\n",
       "      <td>2025-01-23 05:41:17.813857</td>\n",
       "      <td>192.78</td>\n",
       "      <td>18.372310</td>\n",
       "      <td>1009</td>\n",
       "      <td>16</td>\n",
       "      <td>52.97</td>\n",
       "      <td>payment</td>\n",
       "      <td>mobile</td>\n",
       "      <td>East</td>\n",
       "      <td>individual</td>\n",
       "      <td>0</td>\n",
       "    </tr>\n",
       "    <tr>\n",
       "      <th>2</th>\n",
       "      <td>3</td>\n",
       "      <td>2025-07-04 16:07:17.813857</td>\n",
       "      <td>142.37</td>\n",
       "      <td>3.813796</td>\n",
       "      <td>534</td>\n",
       "      <td>23</td>\n",
       "      <td>98.79</td>\n",
       "      <td>payment</td>\n",
       "      <td>mobile</td>\n",
       "      <td>East</td>\n",
       "      <td>business</td>\n",
       "      <td>0</td>\n",
       "    </tr>\n",
       "    <tr>\n",
       "      <th>3</th>\n",
       "      <td>4</td>\n",
       "      <td>2025-04-21 14:27:17.813857</td>\n",
       "      <td>38.12</td>\n",
       "      <td>14.645404</td>\n",
       "      <td>1273</td>\n",
       "      <td>24</td>\n",
       "      <td>92.05</td>\n",
       "      <td>transfer</td>\n",
       "      <td>mobile</td>\n",
       "      <td>North</td>\n",
       "      <td>student</td>\n",
       "      <td>0</td>\n",
       "    </tr>\n",
       "    <tr>\n",
       "      <th>4</th>\n",
       "      <td>5</td>\n",
       "      <td>2025-01-08 04:37:17.813857</td>\n",
       "      <td>107.06</td>\n",
       "      <td>3.248498</td>\n",
       "      <td>1865</td>\n",
       "      <td>18</td>\n",
       "      <td>141.76</td>\n",
       "      <td>purchase</td>\n",
       "      <td>mobile</td>\n",
       "      <td>West</td>\n",
       "      <td>individual</td>\n",
       "      <td>1</td>\n",
       "    </tr>\n",
       "  </tbody>\n",
       "</table>\n",
       "</div>"
      ],
      "text/plain": [
       "   transaction_id                    datetime  transaction_amount  \\\n",
       "0               1  2025-01-16 07:27:17.813857              205.18   \n",
       "1               2  2025-01-23 05:41:17.813857              192.78   \n",
       "2               3  2025-07-04 16:07:17.813857              142.37   \n",
       "3               4  2025-04-21 14:27:17.813857               38.12   \n",
       "4               5  2025-01-08 04:37:17.813857              107.06   \n",
       "\n",
       "   transaction_time  account_age_days  num_prev_transactions  \\\n",
       "0         17.508197               399                     26   \n",
       "1         18.372310              1009                     16   \n",
       "2          3.813796               534                     23   \n",
       "3         14.645404              1273                     24   \n",
       "4          3.248498              1865                     18   \n",
       "\n",
       "   avg_transaction_amount transaction_type device_type region  \\\n",
       "0                   88.69          payment      mobile  South   \n",
       "1                   52.97          payment      mobile   East   \n",
       "2                   98.79          payment      mobile   East   \n",
       "3                   92.05         transfer      mobile  North   \n",
       "4                  141.76         purchase      mobile   West   \n",
       "\n",
       "  customer_segment  is_fraud  \n",
       "0       individual         0  \n",
       "1       individual         0  \n",
       "2         business         0  \n",
       "3          student         0  \n",
       "4       individual         1  "
      ]
     },
     "execution_count": 5,
     "metadata": {},
     "output_type": "execute_result"
    }
   ],
   "source": [
    "df.head()"
   ]
  },
  {
   "cell_type": "code",
   "execution_count": 6,
   "id": "d805ce16",
   "metadata": {},
   "outputs": [
    {
     "name": "stdout",
     "output_type": "stream",
     "text": [
      "<class 'pandas.core.frame.DataFrame'>\n",
      "RangeIndex: 1000 entries, 0 to 999\n",
      "Data columns (total 12 columns):\n",
      " #   Column                  Non-Null Count  Dtype  \n",
      "---  ------                  --------------  -----  \n",
      " 0   transaction_id          1000 non-null   int64  \n",
      " 1   datetime                1000 non-null   object \n",
      " 2   transaction_amount      1000 non-null   float64\n",
      " 3   transaction_time        1000 non-null   float64\n",
      " 4   account_age_days        1000 non-null   int64  \n",
      " 5   num_prev_transactions   1000 non-null   int64  \n",
      " 6   avg_transaction_amount  1000 non-null   float64\n",
      " 7   transaction_type        1000 non-null   object \n",
      " 8   device_type             1000 non-null   object \n",
      " 9   region                  1000 non-null   object \n",
      " 10  customer_segment        1000 non-null   object \n",
      " 11  is_fraud                1000 non-null   int64  \n",
      "dtypes: float64(3), int64(4), object(5)\n",
      "memory usage: 93.9+ KB\n"
     ]
    }
   ],
   "source": [
    "df.info()"
   ]
  },
  {
   "cell_type": "code",
   "execution_count": 7,
   "id": "64ab72de",
   "metadata": {},
   "outputs": [
    {
     "data": {
      "text/html": [
       "<div>\n",
       "<style scoped>\n",
       "    .dataframe tbody tr th:only-of-type {\n",
       "        vertical-align: middle;\n",
       "    }\n",
       "\n",
       "    .dataframe tbody tr th {\n",
       "        vertical-align: top;\n",
       "    }\n",
       "\n",
       "    .dataframe thead th {\n",
       "        text-align: right;\n",
       "    }\n",
       "</style>\n",
       "<table border=\"1\" class=\"dataframe\">\n",
       "  <thead>\n",
       "    <tr style=\"text-align: right;\">\n",
       "      <th></th>\n",
       "      <th>transaction_id</th>\n",
       "      <th>transaction_amount</th>\n",
       "      <th>transaction_time</th>\n",
       "      <th>account_age_days</th>\n",
       "      <th>num_prev_transactions</th>\n",
       "      <th>avg_transaction_amount</th>\n",
       "      <th>is_fraud</th>\n",
       "    </tr>\n",
       "  </thead>\n",
       "  <tbody>\n",
       "    <tr>\n",
       "      <th>count</th>\n",
       "      <td>1000.000000</td>\n",
       "      <td>1000.00000</td>\n",
       "      <td>1000.000000</td>\n",
       "      <td>1000.00000</td>\n",
       "      <td>1000.000000</td>\n",
       "      <td>1000.000000</td>\n",
       "      <td>1000.000000</td>\n",
       "    </tr>\n",
       "    <tr>\n",
       "      <th>mean</th>\n",
       "      <td>500.500000</td>\n",
       "      <td>124.50263</td>\n",
       "      <td>12.051881</td>\n",
       "      <td>991.55100</td>\n",
       "      <td>19.742000</td>\n",
       "      <td>81.432500</td>\n",
       "      <td>0.280000</td>\n",
       "    </tr>\n",
       "    <tr>\n",
       "      <th>std</th>\n",
       "      <td>288.819436</td>\n",
       "      <td>125.75085</td>\n",
       "      <td>6.983157</td>\n",
       "      <td>565.95852</td>\n",
       "      <td>4.387789</td>\n",
       "      <td>30.530074</td>\n",
       "      <td>0.449224</td>\n",
       "    </tr>\n",
       "    <tr>\n",
       "      <th>min</th>\n",
       "      <td>1.000000</td>\n",
       "      <td>0.39000</td>\n",
       "      <td>0.000279</td>\n",
       "      <td>12.00000</td>\n",
       "      <td>9.000000</td>\n",
       "      <td>1.000000</td>\n",
       "      <td>0.000000</td>\n",
       "    </tr>\n",
       "    <tr>\n",
       "      <th>25%</th>\n",
       "      <td>250.750000</td>\n",
       "      <td>33.42500</td>\n",
       "      <td>6.246110</td>\n",
       "      <td>512.25000</td>\n",
       "      <td>17.000000</td>\n",
       "      <td>60.762500</td>\n",
       "      <td>0.000000</td>\n",
       "    </tr>\n",
       "    <tr>\n",
       "      <th>50%</th>\n",
       "      <td>500.500000</td>\n",
       "      <td>87.76000</td>\n",
       "      <td>12.044499</td>\n",
       "      <td>959.50000</td>\n",
       "      <td>20.000000</td>\n",
       "      <td>80.665000</td>\n",
       "      <td>0.000000</td>\n",
       "    </tr>\n",
       "    <tr>\n",
       "      <th>75%</th>\n",
       "      <td>750.250000</td>\n",
       "      <td>171.77000</td>\n",
       "      <td>18.184241</td>\n",
       "      <td>1476.25000</td>\n",
       "      <td>23.000000</td>\n",
       "      <td>101.770000</td>\n",
       "      <td>1.000000</td>\n",
       "    </tr>\n",
       "    <tr>\n",
       "      <th>max</th>\n",
       "      <td>1000.000000</td>\n",
       "      <td>893.01000</td>\n",
       "      <td>23.947701</td>\n",
       "      <td>1998.00000</td>\n",
       "      <td>34.000000</td>\n",
       "      <td>201.580000</td>\n",
       "      <td>1.000000</td>\n",
       "    </tr>\n",
       "  </tbody>\n",
       "</table>\n",
       "</div>"
      ],
      "text/plain": [
       "       transaction_id  transaction_amount  transaction_time  account_age_days  \\\n",
       "count     1000.000000          1000.00000       1000.000000        1000.00000   \n",
       "mean       500.500000           124.50263         12.051881         991.55100   \n",
       "std        288.819436           125.75085          6.983157         565.95852   \n",
       "min          1.000000             0.39000          0.000279          12.00000   \n",
       "25%        250.750000            33.42500          6.246110         512.25000   \n",
       "50%        500.500000            87.76000         12.044499         959.50000   \n",
       "75%        750.250000           171.77000         18.184241        1476.25000   \n",
       "max       1000.000000           893.01000         23.947701        1998.00000   \n",
       "\n",
       "       num_prev_transactions  avg_transaction_amount     is_fraud  \n",
       "count            1000.000000             1000.000000  1000.000000  \n",
       "mean               19.742000               81.432500     0.280000  \n",
       "std                 4.387789               30.530074     0.449224  \n",
       "min                 9.000000                1.000000     0.000000  \n",
       "25%                17.000000               60.762500     0.000000  \n",
       "50%                20.000000               80.665000     0.000000  \n",
       "75%                23.000000              101.770000     1.000000  \n",
       "max                34.000000              201.580000     1.000000  "
      ]
     },
     "execution_count": 7,
     "metadata": {},
     "output_type": "execute_result"
    }
   ],
   "source": [
    "df.describe()"
   ]
  },
  {
   "cell_type": "code",
   "execution_count": 8,
   "id": "ee88691d",
   "metadata": {},
   "outputs": [
    {
     "data": {
      "text/plain": [
       "transaction_id            0\n",
       "datetime                  0\n",
       "transaction_amount        0\n",
       "transaction_time          0\n",
       "account_age_days          0\n",
       "num_prev_transactions     0\n",
       "avg_transaction_amount    0\n",
       "transaction_type          0\n",
       "device_type               0\n",
       "region                    0\n",
       "customer_segment          0\n",
       "is_fraud                  0\n",
       "dtype: int64"
      ]
     },
     "execution_count": 8,
     "metadata": {},
     "output_type": "execute_result"
    }
   ],
   "source": [
    "df.isnull().sum()"
   ]
  },
  {
   "cell_type": "code",
   "execution_count": null,
   "id": "aac35dc4",
   "metadata": {},
   "outputs": [],
   "source": []
  }
 ],
 "metadata": {
  "kernelspec": {
   "display_name": "venv",
   "language": "python",
   "name": "python3"
  },
  "language_info": {
   "codemirror_mode": {
    "name": "ipython",
    "version": 3
   },
   "file_extension": ".py",
   "mimetype": "text/x-python",
   "name": "python",
   "nbconvert_exporter": "python",
   "pygments_lexer": "ipython3",
   "version": "3.13.9"
  }
 },
 "nbformat": 4,
 "nbformat_minor": 5
}
